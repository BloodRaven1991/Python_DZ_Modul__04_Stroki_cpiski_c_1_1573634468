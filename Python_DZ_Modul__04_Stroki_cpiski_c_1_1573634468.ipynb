{
 "cells": [
  {
   "cell_type": "code",
   "execution_count": 2,
   "metadata": {},
   "outputs": [
    {
     "name": "stdout",
     "output_type": "stream",
     "text": [
      "Это не палиндром.\n"
     ]
    }
   ],
   "source": [
    "def is_palindrome(s):\n",
    "    cleaned_str = ''.join(s.split()).lower()\n",
    "    return cleaned_str == cleaned_str[::-1]\n",
    "\n",
    "\n",
    "user_input = input(\"Введите строку: \")\n",
    "\n",
    "\n",
    "if is_palindrome(user_input):\n",
    "    print(\"Это палиндром.\")\n",
    "else:\n",
    "    print(\"Это не палиндром.\")"
   ]
  },
  {
   "cell_type": "code",
   "execution_count": 3,
   "metadata": {},
   "outputs": [
    {
     "name": "stdout",
     "output_type": "stream",
     "text": [
      "Измененный текст:\n",
      "расскажите мне ИСТОРИЮ из своей ЖИЗНИ\n"
     ]
    }
   ],
   "source": [
    "def highlight_reserved_words(text, reserved_words):\n",
    "    words = text.split()\n",
    "    highlighted_words = [\n",
    "        word.upper() if word in reserved_words else word for word in words\n",
    "    ]\n",
    "    return ' '.join(highlighted_words)\n",
    "\n",
    "\n",
    "user_text = input(\"Введите текст: \")\n",
    "\n",
    "\n",
    "reserved_words_input = input(\"Введите зарезервированные слова (через запятую): \")\n",
    "\n",
    "\n",
    "reserved_words = [word.strip() for word in reserved_words_input.split(',')]\n",
    "\n",
    "\n",
    "modified_text = highlight_reserved_words(user_text, reserved_words)\n",
    "\n",
    "\n",
    "print(\"Измененный текст:\")\n",
    "print(modified_text)"
   ]
  },
  {
   "cell_type": "code",
   "execution_count": 4,
   "metadata": {},
   "outputs": [
    {
     "name": "stdout",
     "output_type": "stream",
     "text": [
      "Количество предложений в тексте: 3\n"
     ]
    }
   ],
   "source": [
    "def count_sentences(text):\n",
    "    sentence_endings = {'.', '!', '?'}\n",
    "    sentences = [s.strip() for s in text if s.strip() and s in sentence_endings]\n",
    "    return len(sentences)\n",
    "\n",
    "\n",
    "user_text = input(\"Введите текст: \")\n",
    "\n",
    "\n",
    "num_sentences = count_sentences(user_text)\n",
    "\n",
    "\n",
    "print(f\"Количество предложений в тексте: {num_sentences}\")"
   ]
  }
 ],
 "metadata": {
  "kernelspec": {
   "display_name": "Python 3",
   "language": "python",
   "name": "python3"
  },
  "language_info": {
   "codemirror_mode": {
    "name": "ipython",
    "version": 3
   },
   "file_extension": ".py",
   "mimetype": "text/x-python",
   "name": "python",
   "nbconvert_exporter": "python",
   "pygments_lexer": "ipython3",
   "version": "3.12.6"
  }
 },
 "nbformat": 4,
 "nbformat_minor": 2
}
